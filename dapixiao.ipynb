{
  "nbformat": 4,
  "nbformat_minor": 0,
  "metadata": {
    "colab": {
      "name": "换脸使者",
      "provenance": [],
      "collapsed_sections": [
        "9G9s5gJrty-x",
        "N-8B8ToUfQOA",
        "m2Ba96cVuS0K"
      ],
      "toc_visible": true,
      "include_colab_link": true
    },
    "kernelspec": {
      "name": "python3",
      "display_name": "Python 3"
    },
    "accelerator": "GPU"
  },
  "cells": [
    {
      "cell_type": "markdown",
      "metadata": {
        "id": "view-in-github",
        "colab_type": "text"
      },
      "source": [
        "<a href=\"https://colab.research.google.com/github/wuyazhishang/dapixiao/blob/master/dapixiao.ipynb\" target=\"_parent\"><img src=\"https://colab.research.google.com/assets/colab-badge.svg\" alt=\"Open In Colab\"/></a>"
      ]
    },
    {
      "cell_type": "code",
      "metadata": {
        "id": "qCyqS61sEHLa",
        "colab_type": "code",
        "cellView": "form",
        "colab": {}
      },
      "source": [
        "#@title (可以不用点)作用只是知道是什么显卡（通过重置所有代码，可以随机选择P4.7G  K80.11G T4.15G P100.16G显存）\n",
        "!/opt/bin/nvidia-smi"
      ],
      "execution_count": 0,
      "outputs": []
    },
    {
      "cell_type": "code",
      "metadata": {
        "id": "DKrPHZXZjLHW",
        "colab_type": "code",
        "cellView": "form",
        "colab": {}
      },
      "source": [
        "#@title 番外篇（直接去训练方法：恢复出厂设置之后再点这个）前提是脸部已经提取好了\n",
        "from google.colab import drive\n",
        "drive.mount('/content/drive', force_remount=True)\n",
        "%cd /content/drive/My Drive/DeepFaceLab/DeepFaceLab_Colab\n",
        "!pip install -r ..txt\n",
        "!sudo apt-get install cuda-10-0\n",
        "Model = \"SAEHD\" #@param [\"SAEHD\",\"Quick96\"]\n",
        "cmd = \"main.py train --training-data-src-dir ../workspace/data_src/aligned --training-data-dst-dir ../workspace/data_dst/aligned --model-dir ../workspace/model --model \"+Model+\" --no-preview\"\n",
        "!python $cmd"
      ],
      "execution_count": 0,
      "outputs": []
    },
    {
      "cell_type": "markdown",
      "metadata": {
        "id": "KWQMLYlFrTXz",
        "colab_type": "text"
      },
      "source": [
        "# 技术咨询微信：dapixiao（打赏技术咨询）说明：此colab版本只匹配此dplcolab使用。\n",
        "云硬盘位置：https://drive.google.com/drive/my-drive \n",
        "### (15G硬盘经常清理麻烦？可以找我买永久无限存储容量账号，可以N个账号一台电脑上面同时换N个视频哟，账号购买直接就可以操作)"
      ]
    },
    {
      "cell_type": "markdown",
      "metadata": {
        "id": "ldpC3PjRrYYh",
        "colab_type": "text"
      },
      "source": [
        "# 第一步 链接云硬盘\n",
        "说明：12小时会自动断线一次，需要输入代码验证重新走一遍第一步，才能接着进行上次的操作步骤\n"
      ]
    },
    {
      "cell_type": "code",
      "metadata": {
        "id": "D7toZxhT4J9W",
        "colab_type": "code",
        "cellView": "form",
        "colab": {}
      },
      "source": [
        "#@title 链接到云硬盘（点击蓝色链接 授权，复制授权码，填入框框，然后回车。）\n",
        "#（出现黑色条形说明正常，未出现就左上角  代码执行程序——重置所有代码，再来走第一步）\n",
        "from google.colab import drive\n",
        "drive.mount('/content/drive', force_remount=True)\n",
        "%cd /content/drive/My Drive/DeepFaceLab/DeepFaceLab_Colab\n",
        "!pip install -r ..txt\n",
        "!sudo apt-get install cuda-10-0"
      ],
      "execution_count": 0,
      "outputs": []
    },
    {
      "cell_type": "markdown",
      "metadata": {
        "id": "9G9s5gJrty-x",
        "colab_type": "text"
      },
      "source": [
        "# 第二步. 提取脸部"
      ]
    },
    {
      "cell_type": "code",
      "metadata": {
        "id": "eF6tVi-ogYrP",
        "colab_type": "code",
        "cellView": "form",
        "colab": {}
      },
      "source": [
        "#@title src提取脸部（如果是视频，选src视频即可，如果是图片，将图片放data_src文件夹里面）\n",
        "%cd /content/drive/My Drive/DeepFaceLab/DeepFaceLab_Colab\n",
        "target = \"src\\u89C6\\u9891\" #@param [\"src视频\",\"src图片\"]\n",
        "if target==\"src视频\":\n",
        "  !python main.py videoed extract-video --input-file ../workspace/data_src.mp4 --output-dir ../workspace/data_src/ --fps 18\n",
        "  !python main.py extract --input-dir ../workspace/data_src --output-dir ../workspace/data_src/aligned --detector s3fd\n",
        "else:\n",
        "  !python main.py extract --input-dir ../workspace/data_src --output-dir ../workspace/data_src/aligned --detector s3fd"
      ],
      "execution_count": 0,
      "outputs": []
    },
    {
      "cell_type": "code",
      "metadata": {
        "id": "TiGcsfgTgbZA",
        "colab_type": "code",
        "cellView": "form",
        "colab": {}
      },
      "source": [
        "#@title               src排序 (简单脸部不多的可以不需要排序，这个目的只是方便删除不要的脸部)\n",
        "!python main.py sort --input-dir ../workspace/data_src/aligned --by hist"
      ],
      "execution_count": 0,
      "outputs": []
    },
    {
      "cell_type": "code",
      "metadata": {
        "id": "cU0ok3atgQGQ",
        "colab_type": "code",
        "cellView": "form",
        "colab": {}
      },
      "source": [
        "#@title dst提取脸部(如果是视频，选视频即可一步到位提取脸部)\n",
        "target= \"dst\\u89C6\\u9891\" #@param [\"dst视频\",\"dst图片\"]\n",
        "%cd /content/drive/My Drive/DeepFaceLab/DeepFaceLab_Colab\n",
        "if target==\"dst视频\":\n",
        "  !python main.py videoed extract-video --input-file ../workspace/data_dst.mp4 --output-dir ../workspace/data_dst/ --fps 0\n",
        "  !python main.py extract --input-dir ../workspace/data_dst --output-dir ../workspace/data_dst/aligned --detector s3fd\n",
        "else:\n",
        "  !python main.py extract --input-dir ../workspace/data_dst --output-dir ../workspace/data_dst/aligned --detector s3fd"
      ],
      "execution_count": 0,
      "outputs": []
    },
    {
      "cell_type": "code",
      "metadata": {
        "id": "oHq7C0wrgWUZ",
        "colab_type": "code",
        "cellView": "form",
        "colab": {}
      },
      "source": [
        "#@title dst排序(简单脸部不多的可以不需要排序，这个目的只是方便删除不要的脸部)\n",
        "!python main.py sort --input-dir ../workspace/data_dst/aligned --by hist"
      ],
      "execution_count": 0,
      "outputs": []
    },
    {
      "cell_type": "markdown",
      "metadata": {
        "id": "N-8B8ToUfQOA",
        "colab_type": "text"
      },
      "source": [
        "# 第三步. 训练\n",
        "*  训练的时候，workspace/mode里面会有预览图更新，关电脑后台会运行一个小时，下次可以继续训练，查看预览图方法：左侧->文件->/driver/..../model/ preview.jpg->双击\n",
        "*  训练我们购买的模型，任何视频1分钟效果就非常明显，没有购买模型的从零开始训练，每个视频都需要训练很多天才有效果\n",
        "*  模型区别：quick是最低参数模型能达到的清晰度和还原度比SAEHD低些，SAEHD的参数分128 192 ，高细节 精细 超精细等等，所以同样是SAEHD模型，因为参数不一样，效果完全不一样，根据个人要求购买即可\n",
        "###最前面2个压缩和解压不懂的不用管，直接看  训练"
      ]
    },
    {
      "cell_type": "code",
      "metadata": {
        "id": "Ip_FOtPE-mxH",
        "colab_type": "code",
        "cellView": "form",
        "colab": {}
      },
      "source": [
        "#@title src 的压缩与解压——会把aligned里面的脸的图片压缩成一个pak文件,训练的时候可以秒载入，压缩一次即可 或者把这个文件解压成很多脸的图片\n",
        "%cd /content/drive/My Drive/DeepFaceLab/DeepFaceLab_Colab\n",
        "target= \"\\u538B\\u7F29 src \\u8138\" #@param [\"压缩 src 脸\",\"解压 src 脸\"]\n",
        "if target==\"压缩 src 脸\":\n",
        "  !python main.py util --input-dir ../workspace/data_src/aligned --pack-faceset\n",
        "else:\n",
        "  !python main.py util --input-dir ../workspace/data_src/aligned --unpack-faceset\n",
        "\n",
        "  print(\"微信：dapixiao 打赏技术咨询 超清素材购买 超级模型 大神速成教学等等\")"
      ],
      "execution_count": 0,
      "outputs": []
    },
    {
      "cell_type": "code",
      "metadata": {
        "id": "1H5EECSIc0E4",
        "colab_type": "code",
        "cellView": "form",
        "colab": {}
      },
      "source": [
        "#@title dst 的压缩与解压——会把aligned里面的脸的图片压缩成一个pak文件,训练的时候可以秒载入，压缩一次即可 或者把这个文件解压成很多脸的图片\n",
        "%cd /content/drive/My Drive/DeepFaceLab/DeepFaceLab_Colab\n",
        "target= \"压缩 dst 脸\" #@param [\"压缩 dst 脸\",\"解压 dst 脸\"]\n",
        "if target==\"压缩 dst 脸\":\n",
        "  !python main.py util --input-dir ../workspace/data_dst/aligned --pack-faceset\n",
        "\n",
        "else:\n",
        "  !python main.py util --input-dir ../workspace/data_dst/aligned --unpack-faceset\n",
        "  print(\"微信：dapixiao 打赏技术咨询 超清素材购买 超级模型 大神速成教学等等\")"
      ],
      "execution_count": 0,
      "outputs": []
    },
    {
      "cell_type": "code",
      "metadata": {
        "colab_type": "code",
        "cellView": "form",
        "id": "NBqRN6sj_qSi",
        "colab": {}
      },
      "source": [
        "#@title 训练（请选择模型）\n",
        "%cd /content/drive/My Drive/DeepFaceLab/DeepFaceLab_Colab\n",
        "Model = \"SAEHD\" #@param [\"SAEHD\",\"Quick96\"]\n",
        "cmd = \"main.py train --training-data-src-dir ../workspace/data_src/aligned --training-data-dst-dir ../workspace/data_dst/aligned --model-dir ../workspace/model --model \"+Model+\" --no-preview\"\n",
        "!python $cmd"
      ],
      "execution_count": 0,
      "outputs": []
    },
    {
      "cell_type": "markdown",
      "metadata": {
        "id": "m2Ba96cVuS0K",
        "colab_type": "text"
      },
      "source": [
        "# 第四步. 换脸输出\n",
        "### 这两步需要回车很多次即可（参数设置可以效果更好，可以购买高级教学设置参数避免闪脸黑脸等问题）\n"
      ]
    },
    {
      "cell_type": "code",
      "metadata": {
        "id": "__aUSMa80-_M",
        "colab_type": "code",
        "cellView": "form",
        "colab": {}
      },
      "source": [
        "#@title 开始转换图片（选择和训练一样的模型即可，换完脸的图片在 dst文件夹里面的merged里面）\n",
        "%cd /content/drive/My Drive/DeepFaceLab/DeepFaceLab_Colab\n",
        "Model = \"SAEHD\" #@param [\"SAEHD\",\"Quick96\"]\n",
        "cmd = \" main.py merge --input-dir ../workspace/data_dst --output-dir ../workspace/data_dst/merged --output-mask-dir ../workspace/data_dst/merged_mask --aligned-dir ../workspace/data_dst/aligned --model-dir ../workspace/model --model \" + Model\n",
        "!python $cmd"
      ],
      "execution_count": 0,
      "outputs": []
    },
    {
      "cell_type": "code",
      "metadata": {
        "id": "36DqYbgThJJt",
        "colab_type": "code",
        "cellView": "form",
        "colab": {}
      },
      "source": [
        "#@title 把替换好的图片转换成视频（输出视频文件位置：workspace/relust）\n",
        "!python main.py videoed video-from-sequence --input-dir ../workspace/data_dst/merged --output-file ../workspace/result.mp4 --reference-file ../workspace/data_dst.mp4 --include-audio"
      ],
      "execution_count": 0,
      "outputs": []
    },
    {
      "cell_type": "markdown",
      "metadata": {
        "id": "6sv83vCsCtNW",
        "colab_type": "text"
      },
      "source": [
        "### 云硬盘位置：https://drive.google.com/drive/my-drive"
      ]
    }
  ]
}